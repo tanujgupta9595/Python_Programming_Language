{
 "cells": [
  {
   "cell_type": "code",
   "execution_count": null,
   "metadata": {},
   "outputs": [],
   "source": []
  },
  {
   "cell_type": "markdown",
   "metadata": {},
   "source": [
    "# Exercises\n",
    "Student Name and Roll Number: Tanuj 21csu497<br>\n",
    "Semester /Section: III / CC-CC<br>\n",
    "Link to Code:<br>\n",
    "Date: 22nd August, 2022 <br>\n",
    "Faculty Signature:<br>\n",
    "Remarks:"
   ]
  },
  {
   "cell_type": "markdown",
   "metadata": {},
   "source": [
    "## Question 1"
   ]
  },
  {
   "cell_type": "markdown",
   "metadata": {},
   "source": [
    "**Write a program that inputs a number from user and checks whether number is positive or negative.**"
   ]
  },
  {
   "cell_type": "code",
   "execution_count": 5,
   "metadata": {},
   "outputs": [
    {
     "name": "stdout",
     "output_type": "stream",
     "text": [
      "Enter a number:-5\n",
      "-5 is a negative number.\n"
     ]
    }
   ],
   "source": [
    "a = int(input(\"Enter a number:\"))\n",
    "if(a>=0):\n",
    "    print(a, \"is a positive number.\")\n",
    "    if (a==0):\n",
    "        print(a, \"is zero.\")\n",
    "else:\n",
    "    print(a, \"is a negative number.\")"
   ]
  },
  {
   "cell_type": "markdown",
   "metadata": {},
   "source": [
    "## Question 2"
   ]
  },
  {
   "cell_type": "markdown",
   "metadata": {},
   "source": [
    "**Write a program that inputs a number from user and checks whether number is even or odd.**"
   ]
  },
  {
   "cell_type": "code",
   "execution_count": 7,
   "metadata": {},
   "outputs": [
    {
     "name": "stdout",
     "output_type": "stream",
     "text": [
      "Enter a number:2\n",
      "2 is an even number.\n"
     ]
    }
   ],
   "source": [
    "a = int(input(\"Enter a number:\"))\n",
    "if(a%2==0):\n",
    "    print(a, \"is an even number.\")\n",
    "else:\n",
    "    print(a, \"is a odd number.\")"
   ]
  },
  {
   "cell_type": "markdown",
   "metadata": {},
   "source": [
    "## Question 3"
   ]
  },
  {
   "cell_type": "markdown",
   "metadata": {},
   "source": [
    "**Write a program that checks whether a given year is leap year or not.**"
   ]
  },
  {
   "cell_type": "code",
   "execution_count": 18,
   "metadata": {},
   "outputs": [
    {
     "name": "stdout",
     "output_type": "stream",
     "text": [
      "Enter a year:2003\n",
      "2003 is not a leap year.\n"
     ]
    }
   ],
   "source": [
    "year = int(input(\"Enter a year:\"))\n",
    "if(year%100==0):\n",
    "    if(year%400==0):\n",
    "        print(year, \"is a leap year.\")\n",
    "    else:\n",
    "        print(year, \"is not a leap year.\")\n",
    "elif(year%100!=0):\n",
    "    if(year%4==0):\n",
    "        print(year, \"is a leap year.\")\n",
    "    else:\n",
    "        print(year, \"is not a leap year.\")"
   ]
  },
  {
   "cell_type": "markdown",
   "metadata": {},
   "source": [
    "## Question 4"
   ]
  },
  {
   "cell_type": "markdown",
   "metadata": {},
   "source": [
    "**Write a program that finds greatest among three numbers.**"
   ]
  },
  {
   "cell_type": "code",
   "execution_count": 23,
   "metadata": {},
   "outputs": [
    {
     "name": "stdout",
     "output_type": "stream",
     "text": [
      "Enter the first number:5\n",
      "Enter the second number:7\n",
      "Enter the third number:10\n",
      "The largest number is 10\n"
     ]
    }
   ],
   "source": [
    "a = int(input(\"Enter the first number:\"))\n",
    "b = int(input(\"Enter the second number:\"))\n",
    "c = int(input(\"Enter the third number:\"))\n",
    "if (a >= b) and (a >= c):\n",
    "   largest = a\n",
    "elif (b >= a) and (b >= c):\n",
    "   largest = b\n",
    "else:\n",
    "   largest = c\n",
    "\n",
    "print(\"The largest number is\", largest)"
   ]
  },
  {
   "cell_type": "markdown",
   "metadata": {},
   "source": [
    "## Question 5"
   ]
  },
  {
   "cell_type": "markdown",
   "metadata": {},
   "source": [
    "**You’re on a long car trip and arrive at a gas station. It’s $200$ km to the next station.\n",
    "Write a program to figure out if you need to buy gas here, or if you can wait for the\n",
    "next station.**\n",
    "\n",
    "**The program should ask these questions:**\n",
    "\n",
    "**•\tHow big is your gas tank, in litres?**\n",
    "\n",
    "**•\tHow full is your tank (in percent—for example, half full = $50$)?**\n",
    "\n",
    "**•\tHow many km per litre does your car get?**\n",
    "\n",
    "**The output should look something like this**\n",
    "\n",
    "**Size of tank: $60$**\n",
    "\n",
    "**percent full: $40$**\n",
    "\n",
    "**km per liter: $10$**"
   ]
  },
  {
   "cell_type": "code",
   "execution_count": 26,
   "metadata": {},
   "outputs": [
    {
     "name": "stdout",
     "output_type": "stream",
     "text": [
      "Enter the size of your tank:60\n",
      "Enter the percentage of fuel in your tank:40\n",
      "Enter the kilometer your car goes per litre:10\n",
      "You don't need to fill the tank.\n"
     ]
    }
   ],
   "source": [
    "a = int(input(\"Enter the size of your tank:\"))\n",
    "b = int(input(\"Enter the percentage of fuel in your tank:\"))\n",
    "c = int(input(\"Enter the kilometer your car goes per litre:\"))\n",
    "fuel = a*b/100\n",
    "distance = fuel*c\n",
    "if(distance >= 200):\n",
    "    print(\"You don't need to fill the tank.\")\n",
    "else:\n",
    "    print(\"You need to fill up the gas tank.\")"
   ]
  },
  {
   "cell_type": "markdown",
   "metadata": {},
   "source": [
    "## Question 6"
   ]
  },
  {
   "cell_type": "markdown",
   "metadata": {},
   "source": [
    "**Suppose we want to know if the solutions to the quadratic equation**\n",
    "\n",
    "$a * x ^ 2 + b * x + c = 0$\n",
    "\n",
    "**are real, imaginary, or complex for a given set of coefficients a, b, and c.**\n",
    "\n",
    "**Of course, the answer to that question depends on the value of the discriminant $d=b^2-4ac$. The solutions are real if d >= 0, imaginary if b=0 and d < 0, and complex if b!= 0 and d < 0. Implement the above logic in a Python program.**"
   ]
  },
  {
   "cell_type": "code",
   "execution_count": 34,
   "metadata": {},
   "outputs": [
    {
     "name": "stdout",
     "output_type": "stream",
     "text": [
      "Enter the coefficient of x^2:2\n",
      "Enter the coefficient of x:0\n",
      "Enter the constant term:4\n",
      "The roots are imaginary.\n"
     ]
    }
   ],
   "source": [
    "a = int(input(\"Enter the coefficient of x^2:\"))\n",
    "b = int(input(\"Enter the coefficient of x:\"))\n",
    "c = int(input(\"Enter the constant term:\"))\n",
    "d = b**2 - 4*a*c\n",
    "if(d>=0):\n",
    "    print(\"The roots are real.\")\n",
    "elif(b==0):\n",
    "    if(d<0):\n",
    "        print(\"The roots are imaginary.\")\n",
    "else:\n",
    "    print(\"The roots are complex.\")"
   ]
  },
  {
   "cell_type": "markdown",
   "metadata": {},
   "source": [
    "## Question 7"
   ]
  },
  {
   "cell_type": "markdown",
   "metadata": {},
   "source": [
    "**A store is having a sale. It’s giving 10 percent off on purchases of 10 dollars or lower, and 20 percent off purchases of greater than 10 dollars. Write a program that asks the purchase price and displays the discount (10 or 20) and the final price.**"
   ]
  },
  {
   "cell_type": "code",
   "execution_count": 36,
   "metadata": {},
   "outputs": [
    {
     "name": "stdout",
     "output_type": "stream",
     "text": [
      "Enter the price of the item in dollars:52\n",
      "20% discount is to be given.\n"
     ]
    }
   ],
   "source": [
    "a = int(input(\"Enter the price of the item in dollars:\"))\n",
    "if(a<=10):\n",
    "    print(\"10% discount is to be given.\")\n",
    "else:\n",
    "    print(\"20% discount is to be given.\")"
   ]
  },
  {
   "cell_type": "markdown",
   "metadata": {},
   "source": [
    "## Question 8"
   ]
  },
  {
   "cell_type": "markdown",
   "metadata": {},
   "source": [
    "**A soccer team is looking for girls from ages 10 to 12 to play on their team. Write a program to ask the user’s age and whether the user is male or female (using “m” or “f”). Display a message indicating whether the person is eligible to play on the team.\n",
    "Bonus: Make the program so that it doesn’t ask for the age unless the user is a girl.**"
   ]
  },
  {
   "cell_type": "code",
   "execution_count": 48,
   "metadata": {},
   "outputs": [
    {
     "name": "stdout",
     "output_type": "stream",
     "text": [
      "Enter your gender f\n",
      "enter your age 11\n",
      "you're eligible\n"
     ]
    }
   ],
   "source": [
    "gender=input(\"Enter your gender \")\n",
    "if gender==\"f\":\n",
    "    age=float(input(\"enter your age \"))\n",
    "if 10<= age <=12:\n",
    "    print(\"you're eligible\")\n",
    "elif gender==\"m\":\n",
    "     print(\"males are not allowed\")\n",
    "else :\n",
    "    print(\"you're not eligible\")"
   ]
  },
  {
   "cell_type": "markdown",
   "metadata": {},
   "source": [
    "## Question 9"
   ]
  },
  {
   "cell_type": "markdown",
   "metadata": {},
   "source": [
    "**Write a python program to display the Chinese zodiac sign for a person according to his birth year.**\n",
    "\n",
    "**The Chinese zodiac sign is based on a 12-year cycle, and each year in this cycle is represented by an animal—\n",
    "monkey, rooster, dog, pig, rat, ox, tiger, rabbit, dragon, snake, horse, and sheep.**\n",
    "\n"
   ]
  },
  {
   "cell_type": "code",
   "execution_count": 55,
   "metadata": {},
   "outputs": [
    {
     "name": "stdout",
     "output_type": "stream",
     "text": [
      "Enter your birth year:2003\n",
      "Your birth year represents Sheep.\n"
     ]
    }
   ],
   "source": [
    "year = int(input(\"Enter your birth year:\"))\n",
    "if (year%12==0):\n",
    "    print(\"Your birth year represents Monkey.\")\n",
    "if (year%12==1):\n",
    "    print(\"Your birth year represents Rooster.\")\n",
    "if (year%12==2):\n",
    "    print(\"Your birth year represents Dog.\")\n",
    "if (year%12==3):\n",
    "    print(\"Your birth year represents Pig.\")\n",
    "if (year%12==4):\n",
    "    print(\"Your birth year represents Rat.\")\n",
    "if (year%12==5):\n",
    "    print(\"Your birth year represents Ox.\")\n",
    "if (year%12==6):\n",
    "    print(\"Your birth year represents Tiger.\")\n",
    "if (year%12==7):\n",
    "    print(\"Your birth year represents Rabbit.\")\n",
    "if (year%12==8):\n",
    "    print(\"Your birth year represents Dragon.\")\n",
    "if (year%12==9):\n",
    "    print(\"Your birth year represents Snake.\")\n",
    "if (year%12==10):\n",
    "    print(\"Your birth year represents Horse.\")\n",
    "if (year%12==11):\n",
    "    print(\"Your birth year represents Sheep.\")"
   ]
  },
  {
   "cell_type": "markdown",
   "metadata": {},
   "source": [
    "## Question 10"
   ]
  },
  {
   "cell_type": "markdown",
   "metadata": {},
   "source": [
    "**Write a program that prompts the user to enter a weight in kilograms and height in metres and then displays the BMI and its interpretation.** \n",
    "\n",
    "**If BMI is Below $18.5$, it is interpreted as Underweight. <br>\n",
    "If BMI is from $18.5–24.9$, it is interpreted as Normal. <br>\n",
    "If BMI is from $25.0–29.9$, it is interpreted as Overweight. <br>\n",
    "else If BMI is Above $30.0$, it is interpreted as Obese.**\n"
   ]
  },
  {
   "cell_type": "code",
   "execution_count": 51,
   "metadata": {},
   "outputs": [
    {
     "name": "stdout",
     "output_type": "stream",
     "text": [
      "Enter your weight in kilograms:62.5\n",
      "Enter your height in metres:1.87\n",
      "You are underweight.\n"
     ]
    }
   ],
   "source": [
    "w = float(input(\"Enter your weight in kilograms:\"))\n",
    "h = float(input(\"Enter your height in metres:\"))\n",
    "bmi = w/(h**2)\n",
    "if(bmi<18.5):\n",
    "    print(\"You are underweight.\")\n",
    "elif(18.5<=bmi<=24.9):\n",
    "    print(\"You are normal.\")\n",
    "elif(25.0<=bmi<=29.9):\n",
    "    print(\"You are overweight.\")\n",
    "else:\n",
    "    print(\"You are obese.\")"
   ]
  }
 ],
 "metadata": {
  "kernelspec": {
   "display_name": "Python 3 (ipykernel)",
   "language": "python",
   "name": "python3"
  },
  "language_info": {
   "codemirror_mode": {
    "name": "ipython",
    "version": 3
   },
   "file_extension": ".py",
   "mimetype": "text/x-python",
   "name": "python",
   "nbconvert_exporter": "python",
   "pygments_lexer": "ipython3",
   "version": "3.9.12"
  }
 },
 "nbformat": 4,
 "nbformat_minor": 2
}
