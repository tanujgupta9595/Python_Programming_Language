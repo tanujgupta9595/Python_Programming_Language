{
 "cells": [
  {
   "cell_type": "markdown",
   "metadata": {},
   "source": [
    "  ## Experiment No: 1\n",
    "Student Name and Roll Number: Tanuj 21CSU497 <br>\n",
    "Semester /Section: III / CC-CC<br>\n",
    "Link to Code:<br>\n",
    "Date: 22nd August, 2022 <br>\n",
    "Faculty Signature:<br>\n",
    "Remarks:\n",
    "\n",
    "### Objective\n",
    "To familiarize the students about Variable Concepts (part-1)."
   ]
  },
  {
   "cell_type": "code",
   "execution_count": null,
   "metadata": {},
   "outputs": [],
   "source": []
  },
  {
   "cell_type": "markdown",
   "metadata": {},
   "source": [
    "# Exercise"
   ]
  },
  {
   "cell_type": "markdown",
   "metadata": {},
   "source": [
    "##  1"
   ]
  },
  {
   "cell_type": "markdown",
   "metadata": {},
   "source": [
    "Just like in the last chapter, in interactive mode, get Python to **calculate the number of\n",
    "minutes** in a week. But this time, use variables. Make variables for **DaysPerWeek,\n",
    "HoursPerDay, and MinutesPerHour** (or make up your own names), and then multiply\n",
    "them together.\n"
   ]
  },
  {
   "cell_type": "code",
   "execution_count": 7,
   "metadata": {},
   "outputs": [
    {
     "name": "stdout",
     "output_type": "stream",
     "text": [
      "Minutes in a day: 10080\n"
     ]
    }
   ],
   "source": [
    "Dpw = 7 #days per week\n",
    "Hpd = 24 #hours per day\n",
    "Mph = 60 #minutes per hour\n",
    "print(\"Minutes in a day:\",Dpw*Hpd*Mph) #Multiplication of Digits"
   ]
  },
  {
   "cell_type": "markdown",
   "metadata": {},
   "source": [
    "##  2"
   ]
  },
  {
   "cell_type": "markdown",
   "metadata": {},
   "source": [
    "People are always saying there’s not enough time to get everything done. How many\n",
    "minutes would there be in a week if there were 26 hours in a day?\n",
    "\n",
    "**(Hint: Change the HoursPerDay variable.)**\n"
   ]
  },
  {
   "cell_type": "code",
   "execution_count": 5,
   "metadata": {},
   "outputs": [
    {
     "name": "stdout",
     "output_type": "stream",
     "text": [
      "Minutes in a day: 10920\n"
     ]
    }
   ],
   "source": [
    "Dpw = 7 #days per week\n",
    "Hpd = 26 #hours per day\n",
    "Mph = 60 #minutes per hour\n",
    "print(\"Minutes in a day:\",Dpw*Hpd*Mph) #Multiplication of Digits"
   ]
  },
  {
   "cell_type": "markdown",
   "metadata": {},
   "source": [
    "##  3"
   ]
  },
  {
   "cell_type": "markdown",
   "metadata": {},
   "source": [
    "Let's use **Pythagoras theorem** to calculate the **length of the hypotenuse** of a right-angled triangle where the other sides have lengths 3 and 4."
   ]
  },
  {
   "cell_type": "code",
   "execution_count": 8,
   "metadata": {},
   "outputs": [
    {
     "name": "stdout",
     "output_type": "stream",
     "text": [
      "Length of the Hypotenuse is: 5.0\n"
     ]
    }
   ],
   "source": [
    "Base = 4\n",
    "Perpendicular = 3\n",
    "Hypotenuse = (Perpendicular**2 + Base**2)**0.5\n",
    "print(\"Length of the Hypotenuse is:\",Hypotenuse)"
   ]
  },
  {
   "cell_type": "markdown",
   "metadata": {},
   "source": [
    "##  4"
   ]
  },
  {
   "cell_type": "markdown",
   "metadata": {},
   "source": [
    "Write a simple Python program that displays the following **powers of 2**, one per line: $$2^1, 2^2, 2^3, 2^4, 2^5, 2^6, 2^7, 2^8$$ <br>\n",
    "**Note:You can use ** for power.**"
   ]
  },
  {
   "cell_type": "code",
   "execution_count": 38,
   "metadata": {},
   "outputs": [
    {
     "name": "stdout",
     "output_type": "stream",
     "text": [
      "2\n",
      "4\n",
      "8\n",
      "16\n",
      "32\n",
      "64\n",
      "128\n",
      "256\n"
     ]
    }
   ],
   "source": [
    "a = 2**1\n",
    "b = 2**2\n",
    "c = 2**3\n",
    "d = 2**4\n",
    "e = 2**5\n",
    "f = 2**6\n",
    "g = 2**7\n",
    "h = 2**8\n",
    "print(a)\n",
    "print(b)\n",
    "print(c)\n",
    "print(d)\n",
    "print(e)\n",
    "print(f)\n",
    "print(g)\n",
    "print(h)"
   ]
  },
  {
   "cell_type": "markdown",
   "metadata": {},
   "source": [
    "##  5"
   ]
  },
  {
   "cell_type": "markdown",
   "metadata": {},
   "source": [
    "**Write a Python program that allows the user to enter any integer value, and displays the value of 2 raised to that power. Your program should function as shown below.**\n",
    "\n",
    "What power of two? 10\n",
    "\n",
    "Two to the power of 10 is 1024"
   ]
  },
  {
   "cell_type": "code",
   "execution_count": 16,
   "metadata": {},
   "outputs": [
    {
     "name": "stdout",
     "output_type": "stream",
     "text": [
      "Enter the power of two:10\n",
      "Two to the power of 10 is 1024\n"
     ]
    }
   ],
   "source": [
    "n = int(input(\"Enter the power of two:\"))\n",
    "print(\"Two to the power of\",n,\"is\",2**n)"
   ]
  },
  {
   "cell_type": "markdown",
   "metadata": {},
   "source": [
    "##  6"
   ]
  },
  {
   "cell_type": "markdown",
   "metadata": {},
   "source": [
    "**Write a Python program that allows the user to enter any integer base and integer exponent, and displays the value of the base raised to that exponent. Your program should function as shown below.**\n",
    "\n",
    "What base? 10\n",
    "\n",
    "What power? 4\n",
    "\n",
    "10 to the power of 4 is 10000"
   ]
  },
  {
   "cell_type": "code",
   "execution_count": 39,
   "metadata": {},
   "outputs": [
    {
     "name": "stdout",
     "output_type": "stream",
     "text": [
      "Enter the base number:10\n",
      "Enter the power:4\n",
      "The required number is: 10000\n"
     ]
    }
   ],
   "source": [
    "n = int(input(\"Enter the base number:\"))\n",
    "b = int(input(\"Enter the power:\"))\n",
    "print(\"The required number is:\", n**b)"
   ]
  },
  {
   "cell_type": "markdown",
   "metadata": {},
   "source": [
    "##  7"
   ]
  },
  {
   "cell_type": "markdown",
   "metadata": {},
   "source": [
    "**Write a Python program that allows the user to enter a four-digit binary number and displays its value in base 10. Each binary digit should be entered one per line, starting with the leftmost digit, as shown below.**\n",
    "\n",
    "Enter leftmost digit: 1\n",
    "\n",
    "Enter the next digit: 0\n",
    "\n",
    "Enter the next digit: 0\n",
    "\n",
    "Enter the next digit: 1\n",
    "\n",
    "The value is 9"
   ]
  },
  {
   "cell_type": "code",
   "execution_count": 40,
   "metadata": {},
   "outputs": [
    {
     "name": "stdout",
     "output_type": "stream",
     "text": [
      "Enter the left most digit:1\n",
      "Enter the next digit:0\n",
      "Enter the next digit:0\n",
      "Enter the next digit:1\n",
      "The value in decimal system is: 9\n"
     ]
    }
   ],
   "source": [
    "a = int(input(\"Enter the left most digit:\"))\n",
    "b = int(input(\"Enter the next digit:\"))\n",
    "c = int(input(\"Enter the next digit:\"))\n",
    "d = int(input(\"Enter the next digit:\"))\n",
    "e = a*(2**3)\n",
    "f = b*(2**2)\n",
    "g = c*(2**1)\n",
    "h = d*(2**0)\n",
    "print(\"The value in decimal system is:\", e+f+g+h)"
   ]
  },
  {
   "cell_type": "markdown",
   "metadata": {},
   "source": [
    "##  8"
   ]
  },
  {
   "cell_type": "markdown",
   "metadata": {},
   "source": [
    "**Write a simple Python program that prompts the user for a certain number of cities for the Traveling Salesman problem, and displays the total number of possible routes that can be taken. Your program should function as shown below.**\n",
    "\n",
    "How many cities? 10\n",
    "\n",
    "For 10 cities, there are 3628800 possible route"
   ]
  },
  {
   "cell_type": "code",
   "execution_count": 42,
   "metadata": {},
   "outputs": [
    {
     "name": "stdout",
     "output_type": "stream",
     "text": [
      "Enter the number of cities:10\n",
      "For 10 cities, there are 3628800 possible route\n"
     ]
    }
   ],
   "source": [
    "import math\n",
    "a = int(input(\"Enter the number of cities:\"))\n",
    "b = math.factorial(a)\n",
    "print(\"For\", a, \"cities, there are\", b, \"possible route\")"
   ]
  },
  {
   "cell_type": "markdown",
   "metadata": {},
   "source": [
    "**Hint: Use library Math (import math) and use function factorial from it.  Factorial takes one argument in bracket (*math.factorial(x)*).**"
   ]
  }
 ],
 "metadata": {
  "kernelspec": {
   "display_name": "Python 3 (ipykernel)",
   "language": "python",
   "name": "python3"
  },
  "language_info": {
   "codemirror_mode": {
    "name": "ipython",
    "version": 3
   },
   "file_extension": ".py",
   "mimetype": "text/x-python",
   "name": "python",
   "nbconvert_exporter": "python",
   "pygments_lexer": "ipython3",
   "version": "3.9.12"
  }
 },
 "nbformat": 4,
 "nbformat_minor": 2
}
