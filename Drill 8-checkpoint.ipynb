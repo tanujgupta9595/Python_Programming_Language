{
 "cells": [
  {
   "cell_type": "markdown",
   "metadata": {},
   "source": [
    "### **Go back to Password Checker project in Loops and add Comments.**\n",
    "Student Name and Roll Number: Tanuj 21CSU497 <br>\n",
    "Semester /Section: III / CC-CC<br>\n",
    "Link to Code:<br>\n",
    "Date: 26th August, 2022<br>\n",
    "Faculty Signature:<br>\n",
    "Remarks:"
   ]
  },
  {
   "cell_type": "markdown",
   "metadata": {},
   "source": [
    "## Password Checker"
   ]
  },
  {
   "cell_type": "markdown",
   "metadata": {},
   "source": [
    "It’s **important** to protect your personal information online, and in this project you’ll create a program to generate passwords for you.\n",
    "<br>\n",
    "The passwords will be random, so no one will be able to guess them!\n",
    "\n",
    "**Write a python program to ask the user the length of password to be selected and generate a password randomly of given length.**"
   ]
  },
  {
   "cell_type": "markdown",
   "metadata": {},
   "source": [
    "# Solution"
   ]
  },
  {
   "cell_type": "markdown",
   "metadata": {},
   "source": [
    "**To choose a random character, you’ll need to import the random module.**"
   ]
  },
  {
   "cell_type": "code",
   "execution_count": 1,
   "metadata": {},
   "outputs": [],
   "source": [
    "import random"
   ]
  },
  {
   "cell_type": "markdown",
   "metadata": {},
   "source": [
    "**Choosing a password length. <br>\n",
    "Ask the user to input a password length, and store it in a variable called length.**\n"
   ]
  },
  {
   "cell_type": "code",
   "execution_count": null,
   "metadata": {},
   "outputs": [],
   "source": [
    "length = int(input(\"Enter the length of your password:\"))"
   ]
  },
  {
   "cell_type": "markdown",
   "metadata": {},
   "source": [
    "**Now you can choose a random character from the list (containing alphabets,numbers and special characters), and store it in a variable called password.**"
   ]
  },
  {
   "cell_type": "code",
   "execution_count": 2,
   "metadata": {},
   "outputs": [
    {
     "name": "stdout",
     "output_type": "stream",
     "text": [
      "Enter the length of your password:15\n",
      "tuajluclhbqagno\n"
     ]
    }
   ],
   "source": [
    "import random\n",
    "import string\n",
    "letters = string.ascii_lowercase\n",
    "length = int(input(\"Enter the length of your password:\"))\n",
    "password = ''.join(random.choice(letters) for i in range (length))\n",
    "print(password)"
   ]
  }
 ],
 "metadata": {
  "kernelspec": {
   "display_name": "Python 3 (ipykernel)",
   "language": "python",
   "name": "python3"
  },
  "language_info": {
   "codemirror_mode": {
    "name": "ipython",
    "version": 3
   },
   "file_extension": ".py",
   "mimetype": "text/x-python",
   "name": "python",
   "nbconvert_exporter": "python",
   "pygments_lexer": "ipython3",
   "version": "3.9.12"
  }
 },
 "nbformat": 4,
 "nbformat_minor": 2
}
