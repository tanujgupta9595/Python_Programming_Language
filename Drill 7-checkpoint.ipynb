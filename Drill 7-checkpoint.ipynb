{
 "cells": [
  {
   "cell_type": "markdown",
   "metadata": {},
   "source": [
    "# Exercise\n",
    "Student Name and Roll Number: Tanuj 21CSU497 <br>\n",
    "Semester /Section: III / CC-CC<br>\n",
    "Link to Code:<br>\n",
    "Date: 26th August, 2022<br>\n",
    "Faculty Signature:<br>\n",
    "Remarks:"
   ]
  },
  {
   "cell_type": "markdown",
   "metadata": {},
   "source": [
    "## Question 1"
   ]
  },
  {
   "cell_type": "markdown",
   "metadata": {},
   "source": [
    "**In interactive mode, make two variables, one for your first name and one for your last name. Then, using a single print statement, print your first and last names together.**"
   ]
  },
  {
   "cell_type": "code",
   "execution_count": 3,
   "metadata": {},
   "outputs": [
    {
     "name": "stdout",
     "output_type": "stream",
     "text": [
      "Akshat Yadav\n"
     ]
    }
   ],
   "source": [
    "a = str(\"Akshat\")\n",
    "b = str(\"Yadav\")\n",
    "print(a, b)"
   ]
  },
  {
   "cell_type": "markdown",
   "metadata": {},
   "source": [
    "## Question 2"
   ]
  },
  {
   "cell_type": "markdown",
   "metadata": {},
   "source": [
    "**Write a program that asks for your first name, then asks for your last name, and then\n",
    "prints a message with your first and last names in it.**"
   ]
  },
  {
   "cell_type": "code",
   "execution_count": 4,
   "metadata": {},
   "outputs": [
    {
     "name": "stdout",
     "output_type": "stream",
     "text": [
      "Enter your first name:Akshat\n",
      "Enter your second name:Yadav\n",
      "Your name is Akshat Yadav\n"
     ]
    }
   ],
   "source": [
    "a = str(input(\"Enter your first name:\"))\n",
    "b = str(input(\"Enter your second name:\"))\n",
    "print(\"Your name is\", a, b)"
   ]
  },
  {
   "cell_type": "markdown",
   "metadata": {},
   "source": [
    "## Question 3"
   ]
  },
  {
   "cell_type": "markdown",
   "metadata": {},
   "source": [
    "**Write a program that asks for the dimensions (in feet) of a rectangular room, and then\n",
    "calculates and displays the total amount of carpet needed to cover the room.**\n"
   ]
  },
  {
   "cell_type": "code",
   "execution_count": 5,
   "metadata": {},
   "outputs": [
    {
     "name": "stdout",
     "output_type": "stream",
     "text": [
      "Enter the length of the room in feet:15\n",
      "Enter the breadth of the room in feet:20\n",
      "The amount of carpet needed is 300 square feet\n"
     ]
    }
   ],
   "source": [
    "a = int(input(\"Enter the length of the room in feet:\"))\n",
    "b = int(input(\"Enter the breadth of the room in feet:\"))\n",
    "c = a*b\n",
    "print(\"The amount of carpet needed is\", c, \"square feet\")"
   ]
  },
  {
   "cell_type": "markdown",
   "metadata": {},
   "source": [
    "## Question 4"
   ]
  },
  {
   "cell_type": "markdown",
   "metadata": {},
   "source": [
    "**Write a program that does the same as in #3, but that also asks for the cost per square\n",
    "yard of carpet. Then have the program display these three things:**\n",
    "\n",
    "**•\tThe total amount of carpet, in square feet**\n",
    "\n",
    "**•\tThe total amount of carpet, in square yards (1 square yard = 9 square feet)**\n",
    "\n",
    "**•\tThe total cost of the carpet**\n"
   ]
  },
  {
   "cell_type": "code",
   "execution_count": 7,
   "metadata": {},
   "outputs": [
    {
     "name": "stdout",
     "output_type": "stream",
     "text": [
      "Enter the length of the room in feet:15\n",
      "Enter the breadth of the room in feet:30\n",
      "Enter the cost of carpet per square yard:200\n",
      "The amount of carpet needed is 450 square feet\n",
      "The amount of carpet needed is 50 square yards\n",
      "The total cost of carpet is: 10000\n"
     ]
    }
   ],
   "source": [
    "a = int(input(\"Enter the length of the room in feet:\"))\n",
    "b = int(input(\"Enter the breadth of the room in feet:\"))\n",
    "e = int(input(\"Enter the cost of carpet per square yard:\"))\n",
    "c = a*b\n",
    "print(\"The amount of carpet needed is\", c, \"square feet\")\n",
    "d = c//9\n",
    "print(\"The amount of carpet needed is\", d, \"square yards\")\n",
    "print(\"The total cost of carpet is:\", d*e)"
   ]
  },
  {
   "cell_type": "markdown",
   "metadata": {},
   "source": [
    "## Question 5"
   ]
  },
  {
   "cell_type": "markdown",
   "metadata": {},
   "source": [
    "**Write a program that helps the user add up her change. The program should ask**\n",
    "\n",
    "**•\t“How many quarters?”**\n",
    "\n",
    "**•\t“How many dimes?”**\n",
    "\n",
    "**•\t“How many nickels?”**\n",
    "\n",
    "**•\t“How many pennies?”**\n",
    "\n",
    "**Then it should give the total value of the change.**\n"
   ]
  },
  {
   "cell_type": "code",
   "execution_count": 9,
   "metadata": {},
   "outputs": [
    {
     "name": "stdout",
     "output_type": "stream",
     "text": [
      "How many quarters do you have:20\n",
      "How many dimes do you have:15\n",
      "How many nickels do you have:80\n",
      "How many pennies do you have:100\n",
      "Total change: 11\n"
     ]
    }
   ],
   "source": [
    "a = int(input(\"How many quarters do you have:\"))\n",
    "b = int(input(\"How many dimes do you have:\"))\n",
    "c = int(input(\"How many nickels do you have:\"))\n",
    "d = int(input(\"How many pennies do you have:\"))\n",
    "e = a//4+b//10+c//20+d//100\n",
    "print(\"Total change:\", e)"
   ]
  },
  {
   "cell_type": "markdown",
   "metadata": {},
   "source": [
    "## Question 6"
   ]
  },
  {
   "cell_type": "markdown",
   "metadata": {},
   "source": [
    "**Write a program that takes two integer arguments, x and y from user and prints Euclidean distance of the point (x,y) from (0,0).**"
   ]
  },
  {
   "cell_type": "code",
   "execution_count": 1,
   "metadata": {},
   "outputs": [
    {
     "name": "stdout",
     "output_type": "stream",
     "text": [
      "Enter the x co-ordinate:8\n",
      "Enter the y co-ordinate:-7\n",
      "15.0\n"
     ]
    }
   ],
   "source": [
    "import math\n",
    "P = int(input(\"Enter the x co-ordinate:\"))\n",
    "Q = int(input(\"Enter the y co-ordinate:\"))\n",
    "eDistance = math.dist([P], [Q])\n",
    "print(eDistance)"
   ]
  },
  {
   "cell_type": "markdown",
   "metadata": {},
   "source": [
    "## Question 7"
   ]
  },
  {
   "cell_type": "markdown",
   "metadata": {},
   "source": [
    "**Write a program that takes two integer arguments x and y from user and swaps their values. After each assignment statement, print a trace of the variables.**\n"
   ]
  },
  {
   "cell_type": "code",
   "execution_count": 11,
   "metadata": {},
   "outputs": [
    {
     "name": "stdout",
     "output_type": "stream",
     "text": [
      "Enter the first value:2\n",
      "Enter the second value:3\n",
      "2\n",
      "3\n",
      "After interchanging the values are as follows:\n",
      "3\n",
      "2\n"
     ]
    }
   ],
   "source": [
    "a = int(input(\"Enter the first value:\"))\n",
    "b = int(input(\"Enter the second value:\"))\n",
    "print(a)\n",
    "print(b)\n",
    "c = b\n",
    "b = a\n",
    "a = c\n",
    "print(\"After interchanging the values are as follows:\")\n",
    "print(a)\n",
    "print(b)"
   ]
  }
 ],
 "metadata": {
  "kernelspec": {
   "display_name": "Python 3 (ipykernel)",
   "language": "python",
   "name": "python3"
  },
  "language_info": {
   "codemirror_mode": {
    "name": "ipython",
    "version": 3
   },
   "file_extension": ".py",
   "mimetype": "text/x-python",
   "name": "python",
   "nbconvert_exporter": "python",
   "pygments_lexer": "ipython3",
   "version": "3.9.12"
  }
 },
 "nbformat": 4,
 "nbformat_minor": 2
}
