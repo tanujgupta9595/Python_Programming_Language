{
 "cells": [
  {
   "cell_type": "markdown",
   "metadata": {},
   "source": [
    "# Exercises\n",
    "Student Name and Roll Number: Akshat Yadav 21CSU406 <br>\n",
    "Semester /Section: III / CC-CC<br>\n",
    "Link to Code:<br>\n",
    "Date: 22nd August, 2022 <br>\n",
    "Faculty Signature:<br>\n",
    "Remarks:"
   ]
  },
  {
   "cell_type": "markdown",
   "metadata": {},
   "source": [
    "## Question 1"
   ]
  },
  {
   "cell_type": "markdown",
   "metadata": {},
   "source": [
    "**Input the value such that program prints thank you message 5 times.**"
   ]
  },
  {
   "cell_type": "code",
   "execution_count": 8,
   "metadata": {},
   "outputs": [
    {
     "name": "stdout",
     "output_type": "stream",
     "text": [
      "Thank You.\n",
      "Thank You.\n",
      "Thank You.\n",
      "Thank You.\n",
      "Thank You.\n"
     ]
    }
   ],
   "source": [
    "a = \"Thank You.\"\n",
    "b = 0\n",
    "while (b<5):\n",
    "    print(a)\n",
    "    b=b+1"
   ]
  },
  {
   "cell_type": "markdown",
   "metadata": {},
   "source": [
    "## Question 2"
   ]
  },
  {
   "cell_type": "markdown",
   "metadata": {},
   "source": [
    "**Input the value such that program prints message 5 times.**"
   ]
  },
  {
   "cell_type": "code",
   "execution_count": 9,
   "metadata": {},
   "outputs": [
    {
     "name": "stdout",
     "output_type": "stream",
     "text": [
      "Enter your message:Thank You\n",
      "Thank You\n",
      "Thank You\n",
      "Thank You\n",
      "Thank You\n",
      "Thank You\n"
     ]
    }
   ],
   "source": [
    "a = str(input(\"Enter your message:\"))\n",
    "b = 0\n",
    "while(b<5):\n",
    "    print(a)\n",
    "    b = b+1"
   ]
  },
  {
   "cell_type": "markdown",
   "metadata": {},
   "source": [
    "## Question 3"
   ]
  },
  {
   "cell_type": "markdown",
   "metadata": {},
   "source": [
    "**Write a python program to find *factorial* of a number.**"
   ]
  },
  {
   "cell_type": "code",
   "execution_count": 11,
   "metadata": {},
   "outputs": [
    {
     "name": "stdout",
     "output_type": "stream",
     "text": [
      "Enter the number to find the factorial of:5\n",
      "The factorial of 5 is 120\n"
     ]
    }
   ],
   "source": [
    "a = int(input(\"Enter the number to find the factorial of:\"))\n",
    "b = 1\n",
    "for i in range(1, a+1):\n",
    "    b=b*i\n",
    "print(\"The factorial of\", a, \"is\", b)"
   ]
  },
  {
   "cell_type": "markdown",
   "metadata": {},
   "source": [
    "## Question 4"
   ]
  },
  {
   "cell_type": "markdown",
   "metadata": {},
   "source": [
    "**Write a program to check whether given number is a *prime number or not*.**"
   ]
  },
  {
   "cell_type": "code",
   "execution_count": 21,
   "metadata": {},
   "outputs": [
    {
     "name": "stdout",
     "output_type": "stream",
     "text": [
      "Enter the number you want to check is prime or not:5\n",
      "5 is a prime number.\n"
     ]
    }
   ],
   "source": [
    "a = int(input(\"Enter the number you want to check is prime or not:\"))\n",
    "for i in range(2, a):\n",
    "    if (a%i==0):\n",
    "        print(a, \"is not a prime number.\")\n",
    "        break\n",
    "else:\n",
    "    print(a, \"is a prime number.\")"
   ]
  },
  {
   "cell_type": "markdown",
   "metadata": {},
   "source": [
    "## Question 5"
   ]
  },
  {
   "cell_type": "markdown",
   "metadata": {},
   "source": [
    "**Write a python program to print all *prime numbers* between two given numbers.**"
   ]
  },
  {
   "cell_type": "code",
   "execution_count": 4,
   "metadata": {},
   "outputs": [
    {
     "name": "stdout",
     "output_type": "stream",
     "text": [
      "Enter the first number:10\n",
      "Enter the second number:100\n",
      "Prime numbers between 10 and 100 are:\n",
      "11\n",
      "13\n",
      "17\n",
      "19\n",
      "23\n",
      "29\n",
      "31\n",
      "37\n",
      "41\n",
      "43\n",
      "47\n",
      "53\n",
      "59\n",
      "61\n",
      "67\n",
      "71\n",
      "73\n",
      "79\n",
      "83\n",
      "89\n",
      "97\n"
     ]
    }
   ],
   "source": [
    "a = int(input(\"Enter the first number:\"))\n",
    "b = int(input(\"Enter the second number:\"))\n",
    "print(\"Prime numbers between\", a, \"and\", b, \"are:\")\n",
    "for num in range(a, b + 1):\n",
    "    if num > 1:\n",
    "        for i in range(2, num):\n",
    "            if (num % i) == 0:\n",
    "                break\n",
    "        else:\n",
    "            print(num)\n",
    "    "
   ]
  },
  {
   "cell_type": "markdown",
   "metadata": {},
   "source": [
    "## Question 6"
   ]
  },
  {
   "cell_type": "markdown",
   "metadata": {},
   "source": [
    "**Write a program to find *HCF* of two numbers.**"
   ]
  },
  {
   "cell_type": "code",
   "execution_count": 37,
   "metadata": {},
   "outputs": [
    {
     "name": "stdout",
     "output_type": "stream",
     "text": [
      "Enter the first number:36\n",
      "Enter the second number:60\n",
      "The HCF of 36 and 60 is 12\n"
     ]
    }
   ],
   "source": [
    "a = int(input(\"Enter the first number:\"))\n",
    "b = int(input(\"Enter the second number:\"))\n",
    "hcf = 1\n",
    "for i in range(1, min(a,b)):\n",
    "    if (a%i==0) and (b%i==0):\n",
    "        hcf = i\n",
    "print(\"The HCF of\", a, \"and\", b, \"is\", hcf)"
   ]
  },
  {
   "cell_type": "markdown",
   "metadata": {},
   "source": [
    "## Question 7"
   ]
  },
  {
   "cell_type": "markdown",
   "metadata": {},
   "source": [
    "**Write a python program to print following pattern:**\n",
    "    "
   ]
  },
  {
   "cell_type": "markdown",
   "metadata": {},
   "source": [
    " **1**\n",
    "\n",
    " **1 2**\n",
    "\n",
    " **1 2 3**\n",
    "\n",
    " **1 2 3 4**\n",
    "\n",
    " **1 2 3 4 5**\n",
    "\n",
    " **1 2 3 4 5 6**"
   ]
  },
  {
   "cell_type": "code",
   "execution_count": 43,
   "metadata": {},
   "outputs": [
    {
     "name": "stdout",
     "output_type": "stream",
     "text": [
      "How many rows do you want to have:6\n",
      "1 \n",
      "1 2 \n",
      "1 2 3 \n",
      "1 2 3 4 \n",
      "1 2 3 4 5 \n",
      "1 2 3 4 5 6 \n"
     ]
    }
   ],
   "source": [
    "a = int(input(\"How many rows do you want to have:\"))\n",
    "for i in range(1, a+1):\n",
    "    for j in range(1, i+1):\n",
    "        print(j, end=\" \")\n",
    "    print(\"\")"
   ]
  },
  {
   "cell_type": "markdown",
   "metadata": {},
   "source": [
    "## Question 8"
   ]
  },
  {
   "cell_type": "markdown",
   "metadata": {},
   "source": [
    "**(*Display the first days of each month*) Write a program that prompts the user to enter the year and first day of the year, and displays the first day of each month in the year on the console. \n",
    "For example, if the user entered year 2013, and 2 for *Tuesday, January 1, 2013*, your program should display the following output:**\n",
    "\n",
    "         January 1, 2013 is Tuesday\n",
    "         ...\n",
    "         December 1, 2013 is Sunday"
   ]
  },
  {
   "cell_type": "code",
   "execution_count": null,
   "metadata": {},
   "outputs": [],
   "source": []
  },
  {
   "cell_type": "markdown",
   "metadata": {},
   "source": [
    "## Question 9"
   ]
  },
  {
   "cell_type": "markdown",
   "metadata": {},
   "source": [
    "**(*Financial application: compound value*) Suppose you save $100 each month into a savings account with the annual interest rate 5 percent. So, the monthly interest rate is 0.05/12 = 0.00417. After the first month, the value in the account becomes**\n",
    "\n",
    "                          100 * (1 + 0.00417) = 100.417\n",
    "\n",
    "**After the second month, the value in the account becomes**\n",
    "\n",
    "                    (100 + 100.417) * (1 + 0.00417) = 201.252\n",
    "\n",
    "**After the third month, the value in the account becomes**\n",
    "\n",
    "                       (100 + 201.252) * (1 + 0.00417) = 302.507 \n",
    "   \n",
    "**and so on.**\n",
    "\n",
    "**Write a program that prompts the user to enter an amount (e.g., 100), the annual interest rate (e.g., 5), and the number of months (e.g., 6), and displays the amount in the savings account after the given month.**"
   ]
  },
  {
   "cell_type": "code",
   "execution_count": 44,
   "metadata": {},
   "outputs": [
    {
     "name": "stdout",
     "output_type": "stream",
     "text": [
      "Enter the amount saved each month:100\n",
      "Enter the rate of annual interest:5\n",
      "Enter the number of months:6\n",
      "608.811017705596\n"
     ]
    }
   ],
   "source": [
    "a = int(input(\"Enter the amount saved each month:\"))\n",
    "b = int(input(\"Enter the rate of annual interest:\"))\n",
    "c = int(input(\"Enter the number of months:\"))\n",
    "mir = b/1200\n",
    "d = a*(1+mir)\n",
    "for i in range(1,c):\n",
    "    e = (a+d)*(1+mir)\n",
    "    d = e\n",
    "print(e)\n"
   ]
  },
  {
   "cell_type": "markdown",
   "metadata": {},
   "source": [
    "## Question 10"
   ]
  },
  {
   "cell_type": "markdown",
   "metadata": {},
   "source": [
    "**Revisit the project *Rock, Scissor and Paper* in Decisions.\n",
    "Revise the program to let the user play contin- uously until either the user or the computer wins more than two times consecutively.**"
   ]
  },
  {
   "cell_type": "code",
   "execution_count": null,
   "metadata": {},
   "outputs": [],
   "source": []
  },
  {
   "cell_type": "markdown",
   "metadata": {},
   "source": [
    "## Question 11"
   ]
  },
  {
   "cell_type": "markdown",
   "metadata": {},
   "source": [
    "**Write a program to print *multiplication table* for a given number.**"
   ]
  },
  {
   "cell_type": "code",
   "execution_count": 46,
   "metadata": {},
   "outputs": [
    {
     "name": "stdout",
     "output_type": "stream",
     "text": [
      "Enter a number you want to print the table of:10\n",
      "10 * 1 = 10\n",
      "10 * 2 = 20\n",
      "10 * 3 = 30\n",
      "10 * 4 = 40\n",
      "10 * 5 = 50\n",
      "10 * 6 = 60\n",
      "10 * 7 = 70\n",
      "10 * 8 = 80\n",
      "10 * 9 = 90\n",
      "10 * 10 = 100\n"
     ]
    }
   ],
   "source": [
    "a = int(input(\"Enter a number you want to print the table of:\"))\n",
    "for i in range(1,11):\n",
    "    print(a,\"*\", i, \"=\", a*i)"
   ]
  },
  {
   "cell_type": "markdown",
   "metadata": {},
   "source": [
    "## Question 12"
   ]
  },
  {
   "cell_type": "markdown",
   "metadata": {},
   "source": [
    "**Write a program to check whether given number is a *armstrong number or not*.**"
   ]
  },
  {
   "cell_type": "code",
   "execution_count": 49,
   "metadata": {},
   "outputs": [
    {
     "name": "stdout",
     "output_type": "stream",
     "text": [
      "Enter to check if the number is armstrong is not:153\n",
      "The number is an armstrong number.\n"
     ]
    }
   ],
   "source": [
    "a = int(input(\"Enter to check if the number is armstrong is not:\"))\n",
    "sum = 0\n",
    "b = a\n",
    "while b>0:\n",
    "    c =  b%10\n",
    "    sum += c**3\n",
    "    b = b//10\n",
    "if (a == sum):\n",
    "    print(\"The number is an armstrong number.\")\n",
    "else:\n",
    "    print(\"The number is not an armstrong number.\")"
   ]
  },
  {
   "cell_type": "markdown",
   "metadata": {},
   "source": [
    "## Question 13"
   ]
  },
  {
   "cell_type": "markdown",
   "metadata": {},
   "source": [
    "**Write a program to print *fibonacci series* upto 10 values.**"
   ]
  },
  {
   "cell_type": "code",
   "execution_count": 53,
   "metadata": {},
   "outputs": [
    {
     "name": "stdout",
     "output_type": "stream",
     "text": [
      "How many terms of fibonacci series?10\n",
      "0\n",
      "1\n",
      "1\n",
      "2\n",
      "3\n",
      "5\n",
      "8\n",
      "13\n",
      "21\n",
      "34\n"
     ]
    }
   ],
   "source": [
    "a = int(input(\"How many terms of fibonacci series?\"))\n",
    "b = 0\n",
    "c = 1\n",
    "print(b)\n",
    "print(c)\n",
    "for i in range(0,a-2):\n",
    "    sum = b+c\n",
    "    print(sum)\n",
    "    b = c\n",
    "    c = sum"
   ]
  },
  {
   "cell_type": "markdown",
   "metadata": {},
   "source": [
    "## Question 14"
   ]
  },
  {
   "cell_type": "markdown",
   "metadata": {},
   "source": [
    "**Write a program to calculate the credit card balance after one year if a person only pays the minimum monthly payment required by the credit card company each month.**\n",
    "\n",
    "The following variables contain values as described below:\n",
    "\n",
    "balance - the outstanding balance on the credit card <br>\n",
    "**annualInterestRate** - annual interest rate as a decimal <br>\n",
    "**monthlyPaymentRate** - minimum monthly payment rate as a decimal\n",
    "\n",
    "**For each month, calculate statements on the monthly payment and remaining balance, and print to screen something of the following format:**\n",
    "\n",
    "**Month: 1 <br>\n",
    "**Minimum monthly payment:** 96.0 <br>\n",
    "**Remaining balance:** 4784.0 <br<\n",
    "Be sure to print out no more than two decimal digits of accuracy - so print\n",
    "\n",
    "**Remaining balance:** 813.41\n",
    "instead of\n",
    "**Remaining balance:** 813.4141998135\n",
    "\n",
    "Finally, print out the total amount paid that year and the remaining balance at the end of the year in the format: <br>\n",
    "**Total paid:** 96.0 <br>\n",
    "**Remaining balance:** 4784.0\n",
    "\n",
    "A summary of the required math is found below: <br>\n",
    "**Monthly interest rate**= (Annual interest rate) / 12.0 <br>\n",
    "**Minimum monthly payment** = (Minimum monthly payment rate) x (Previous balance) <br>\n",
    "**Monthly unpaid balance** = (Previous balance) - (Minimum monthly payment) <br>\n",
    "**Updated balance each month** = (Monthly unpaid balance) + (Monthly interest rate x Monthly unpaid balance)\n",
    "\n"
   ]
  },
  {
   "cell_type": "code",
   "execution_count": null,
   "metadata": {},
   "outputs": [],
   "source": []
  }
 ],
 "metadata": {
  "kernelspec": {
   "display_name": "Python 3 (ipykernel)",
   "language": "python",
   "name": "python3"
  },
  "language_info": {
   "codemirror_mode": {
    "name": "ipython",
    "version": 3
   },
   "file_extension": ".py",
   "mimetype": "text/x-python",
   "name": "python",
   "nbconvert_exporter": "python",
   "pygments_lexer": "ipython3",
   "version": "3.9.12"
  }
 },
 "nbformat": 4,
 "nbformat_minor": 2
}
