{
 "cells": [
  {
   "cell_type": "markdown",
   "metadata": {},
   "source": [
    "# Questions\n",
    "Student Name and Roll Number: Tanuj 21CSU497 <br>\n",
    "Semester /Section: III / CC-CC<br>\n",
    "Link to Code:<br>\n",
    "Date: 22nd August, 2022 <br>\n",
    "Faculty Signature:<br>\n",
    "Remarks:"
   ]
  },
  {
   "cell_type": "markdown",
   "metadata": {},
   "source": [
    "## Question 1"
   ]
  },
  {
   "cell_type": "markdown",
   "metadata": {},
   "source": [
    "**Execute the following program and check the output.**"
   ]
  },
  {
   "cell_type": "code",
   "execution_count": 1,
   "metadata": {},
   "outputs": [
    {
     "name": "stdout",
     "output_type": "stream",
     "text": [
      "Enter the first number: 10\n",
      "Enter the second number: 15\n",
      "10.0 is less than 15.0\n",
      "10.0 is not equal to 15.0\n"
     ]
    }
   ],
   "source": [
    "num1 = float(input(\"Enter the first number: \"))\n",
    "num2 = float(input(\"Enter the second number: \"))\n",
    "\n",
    "if num1 < num2:\n",
    "    print(num1, \"is less than\", num2)\n",
    "\n",
    "if num1 > num2:\n",
    "    print(num1, \"is greater than\", num2)\n",
    "\n",
    "if num1 == num2:\n",
    "    print(num1, \"is equal to\", num2)\n",
    "\n",
    "if num1 != num2:\n",
    "    print(num1, \"is not equal to\", num2)"
   ]
  },
  {
   "cell_type": "markdown",
   "metadata": {},
   "source": [
    "## Question 2"
   ]
  },
  {
   "cell_type": "markdown",
   "metadata": {},
   "source": [
    "**What will the output be when this program is run?**"
   ]
  },
  {
   "cell_type": "code",
   "execution_count": 2,
   "metadata": {},
   "outputs": [
    {
     "name": "stdout",
     "output_type": "stream",
     "text": [
      "Under 20\n"
     ]
    }
   ],
   "source": [
    "my_number = 7\n",
    "if my_number < 20:\n",
    "    print ('Under 20')\n",
    "else:\n",
    "    print ('20 or over')\n",
    "    \n",
    "#The output will be 'under 20'"
   ]
  },
  {
   "cell_type": "markdown",
   "metadata": {},
   "source": [
    "## Question 3"
   ]
  },
  {
   "cell_type": "markdown",
   "metadata": {},
   "source": [
    "**From the program in the Question 2, what will the output be if you change my_number to 25?**"
   ]
  },
  {
   "cell_type": "code",
   "execution_count": 3,
   "metadata": {},
   "outputs": [
    {
     "name": "stdout",
     "output_type": "stream",
     "text": [
      "20 or over\n"
     ]
    }
   ],
   "source": [
    "my_number = 25\n",
    "if my_number < 20:\n",
    "    print ('Under 20')\n",
    "else:\n",
    "    print ('20 or over')\n",
    "    \n",
    "#The output will be '20 or over'"
   ]
  },
  {
   "cell_type": "markdown",
   "metadata": {},
   "source": [
    "## Question 4"
   ]
  },
  {
   "cell_type": "markdown",
   "metadata": {},
   "source": [
    "**What kind of if statement would you use to check if a number was greater than 30 but less than or equal to 40?**"
   ]
  },
  {
   "cell_type": "code",
   "execution_count": 6,
   "metadata": {},
   "outputs": [
    {
     "name": "stdout",
     "output_type": "stream",
     "text": [
      "Enter a number:32\n",
      "The entered number is greater than 30 but less than or equal to 40.\n"
     ]
    }
   ],
   "source": [
    "a =  int(input(\"Enter a number:\"))\n",
    "if(30<a<=40):\n",
    "    print(\"The entered number is greater than 30 but less than or equal to 40.\")"
   ]
  },
  {
   "cell_type": "markdown",
   "metadata": {},
   "source": [
    "## Question 5"
   ]
  },
  {
   "cell_type": "markdown",
   "metadata": {},
   "source": [
    "**What kind of if statement would you use to check if the user entered the letter “Q” in either *uppercase or lowercase*?**"
   ]
  },
  {
   "cell_type": "code",
   "execution_count": 7,
   "metadata": {},
   "outputs": [
    {
     "name": "stdout",
     "output_type": "stream",
     "text": [
      "Enter the letter 'Q':Q\n",
      "The entered letter is in uppercase.\n"
     ]
    }
   ],
   "source": [
    "a = str(input(\"Enter the letter 'Q':\"))\n",
    "if(a=='q'):\n",
    "    print(\"The entered letter is in lowercase.\")\n",
    "else:\n",
    "    print(\"The entered letter is in uppercase.\")"
   ]
  }
 ],
 "metadata": {
  "kernelspec": {
   "display_name": "Python 3 (ipykernel)",
   "language": "python",
   "name": "python3"
  },
  "language_info": {
   "codemirror_mode": {
    "name": "ipython",
    "version": 3
   },
   "file_extension": ".py",
   "mimetype": "text/x-python",
   "name": "python",
   "nbconvert_exporter": "python",
   "pygments_lexer": "ipython3",
   "version": "3.9.12"
  }
 },
 "nbformat": 4,
 "nbformat_minor": 2
}
